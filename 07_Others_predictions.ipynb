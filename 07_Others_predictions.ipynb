{
 "cells": [
  {
   "cell_type": "markdown",
   "metadata": {},
   "source": [
    "Predicciones sobre:\n",
    "- Cantidad total de gasto\n",
    "    - Cantidad parciales de gasto"
   ]
  },
  {
   "cell_type": "markdown",
   "metadata": {},
   "source": [
    "## Importación librerías"
   ]
  },
  {
   "cell_type": "code",
   "execution_count": 1,
   "metadata": {},
   "outputs": [],
   "source": [
    "# Librerías para visualización de datos\n",
    "import matplotlib.pyplot as plt\n",
    "import seaborn as sns\n",
    "\n",
    "# Librerías para manipulación y análisis de datos\n",
    "import numpy as np\n",
    "import pandas as pd\n",
    "\n",
    "\n",
    "from sklearn.compose import ColumnTransformer\n",
    "from sklearn.preprocessing import MinMaxScaler, OneHotEncoder, OrdinalEncoder\n",
    "from sklearn.pipeline import Pipeline\n",
    "from sklearn.impute import SimpleImputer\n",
    "\n",
    "from xgboost import XGBRegressor\n",
    "from sklearn.ensemble import RandomForestRegressor\n",
    "from lightgbm import LGBMRegressor\n",
    "from sklearn.linear_model import LinearRegression\n",
    "from catboost import CatBoostRegressor, Pool\n",
    "\n",
    "\n",
    "from sklearn.model_selection import cross_val_score\n",
    "\n",
    "from sklearn.model_selection import GridSearchCV\n",
    "\n",
    "from sklearn.metrics import mean_absolute_error, mean_absolute_percentage_error\n",
    "\n",
    "from toolbox_DS import *\n",
    "from toolbox_ML import *\n",
    "\n",
    "import warnings\n",
    "warnings.filterwarnings(action=\"ignore\", message=r'.*Use subset.*of np.ndarray is not recommended')"
   ]
  },
  {
   "cell_type": "markdown",
   "metadata": {},
   "source": [
    "## Funciones"
   ]
  },
  {
   "cell_type": "code",
   "execution_count": 2,
   "metadata": {},
   "outputs": [],
   "source": [
    "# Funciones de preprocesamiento\n",
    "def establecer_indice(df, columna_id):\n",
    "    df.set_index(columna_id, inplace=True)\n",
    "    return df\n",
    "\n",
    "def convertir_a_datetime(df, columna_fecha):\n",
    "    df[columna_fecha] = pd.to_datetime(df[columna_fecha])\n",
    "    return df\n",
    "\n",
    "def convertir_a_categoricas(df, columnas):\n",
    "    df[columnas] = df[columnas].astype('category')\n",
    "    return df\n",
    "\n",
    "def eliminar_columnas(df, columnas):\n",
    "    df = df.drop(columns=columnas)\n",
    "    return df\n",
    "\n",
    "def eliminar_outliers(df, columna, valor_outlier):\n",
    "    return df[df[columna] != valor_outlier]\n",
    "\n",
    "def dividir_X_y(df, columna_objetivo):\n",
    "    X = df.drop(columns=columna_objetivo)\n",
    "    y = df[columna_objetivo]\n",
    "    return X, y\n",
    "\n",
    "# Primera parte: Preprocesamiento de los conjuntos de datos\n",
    "def preprocesar_datos(train_set, test_set, columnas_eliminar_train, columnas_eliminar_test, columna_objetivo, valor_outlier):\n",
    "    # Preprocesamiento de train_set\n",
    "    train_set = establecer_indice(train_set, 'ID')\n",
    "    train_set = convertir_a_datetime(train_set, 'Dt_Customer')\n",
    "    train_set = convertir_a_categoricas(train_set, ['Education', 'Marital_Status'])\n",
    "    train_set = eliminar_columnas(train_set, columnas_eliminar_train)\n",
    "    train_set = eliminar_outliers(train_set, 'Income', valor_outlier)\n",
    "    X_train, y_train = dividir_X_y(train_set, columna_objetivo)\n",
    "    numerical_features = X_train.select_dtypes(['int','float']).columns\n",
    "\n",
    "    # Preprocesamiento de test_set\n",
    "    test_set = establecer_indice(test_set, 'ID')\n",
    "    test_set = convertir_a_datetime(test_set, 'Dt_Customer')\n",
    "    test_set = convertir_a_categoricas(test_set, ['Education', 'Marital_Status'])\n",
    "    test_set = eliminar_columnas(test_set, columnas_eliminar_test)\n",
    "    test_set = eliminar_outliers(test_set, 'Income', valor_outlier)\n",
    "    X_test, y_test = dividir_X_y(test_set, columna_objetivo)\n",
    "\n",
    "    return X_train, y_train, X_test, y_test, numerical_features\n",
    "\n",
    "# Segunda parte: Tratamiento de variables, pipeline y transformación\n",
    "def tratamiento_y_pipeline(X_train, y_train, X_test, numerical_features, categorical_features_onehot, categorical_features_ordinal):\n",
    "    # Tratamiento de variables y pipeline\n",
    "    ordinal_encoder = OrdinalEncoder(categories=[['Basic', '2n Cycle', 'Graduation', 'Master', 'PhD']])\n",
    "    imputer = SimpleImputer(strategy='median')\n",
    "    preprocessor = ColumnTransformer(\n",
    "        transformers=[\n",
    "            ('num', imputer, numerical_features),\n",
    "            ('cat_onehot', OneHotEncoder(), categorical_features_onehot),\n",
    "            ('cat_ordinal', Pipeline([\n",
    "                ('ordinal', ordinal_encoder),\n",
    "                ('scaler', MinMaxScaler())\n",
    "            ]), categorical_features_ordinal)\n",
    "        ]\n",
    "    )\n",
    "    pipeline = Pipeline(steps=[\n",
    "        ('preprocesor', preprocessor),\n",
    "        ('algoritmo', RandomForestClassifier())\n",
    "    ])\n",
    "    pipeline.fit(X_train, y_train)\n",
    "\n",
    "    # Transformación de los conjuntos de datos\n",
    "    X_train_transform = pipeline.named_steps['preprocesor'].transform(X_train)\n",
    "    X_test_transform = pipeline.named_steps['preprocesor'].transform(X_test)\n",
    "\n",
    "    # Convertir a DataFrame\n",
    "    features_transformed = pipeline.named_steps['preprocesor'].get_feature_names_out()\n",
    "    X_train_transform_df = pd.DataFrame(X_train_transform, columns=features_transformed)\n",
    "    X_test_transform_df = pd.DataFrame(X_test_transform, columns=features_transformed)\n",
    "\n",
    "    return X_train_transform_df, X_test_transform_df"
   ]
  },
  {
   "cell_type": "markdown",
   "metadata": {},
   "source": [
    "## Carga de datos"
   ]
  },
  {
   "cell_type": "code",
   "execution_count": 3,
   "metadata": {},
   "outputs": [],
   "source": [
    "train_set = pd.read_csv('./data/train_set.csv')\n",
    "test_set = pd.read_csv('./data/test_set.csv')"
   ]
  },
  {
   "cell_type": "code",
   "execution_count": 4,
   "metadata": {},
   "outputs": [],
   "source": [
    "columnas_eliminar_train = ['income_missing', 'Year_Birth', 'Total_%_cmp', 'Dt_Customer', 'Median_amount_purchase']\n",
    "columnas_eliminar_test = ['Year_Birth', 'Total_%_cmp', 'Dt_Customer', 'Median_amount_purchase']\n",
    "categorical_features_onehot = ['Marital_Status']\n",
    "categorical_features_ordinal = ['Education']"
   ]
  },
  {
   "cell_type": "markdown",
   "metadata": {},
   "source": [
    "## Predicción Total_amount"
   ]
  },
  {
   "cell_type": "markdown",
   "metadata": {},
   "source": [
    "### Preparación de datos"
   ]
  },
  {
   "cell_type": "code",
   "execution_count": 47,
   "metadata": {},
   "outputs": [],
   "source": [
    "train_set_mnt = train_set.copy()\n",
    "test_set_mnt = test_set.copy()"
   ]
  },
  {
   "cell_type": "code",
   "execution_count": 49,
   "metadata": {},
   "outputs": [
    {
     "data": {
      "text/plain": [
       "count    1790.000000\n",
       "mean      603.696089\n",
       "std       598.671107\n",
       "min         5.000000\n",
       "25%        69.000000\n",
       "50%       396.000000\n",
       "75%      1044.750000\n",
       "max      2524.000000\n",
       "Name: Total_amount, dtype: float64"
      ]
     },
     "execution_count": 49,
     "metadata": {},
     "output_type": "execute_result"
    }
   ],
   "source": [
    "train_set_mnt['Total_amount'].describe().T"
   ]
  },
  {
   "cell_type": "code",
   "execution_count": 125,
   "metadata": {},
   "outputs": [],
   "source": [
    "X_train_mtn, y_train_mnt, X_test_mnt, y_test_mnt, numerical_features_mnt = preprocesar_datos(train_set_mnt,test_set_mnt,columnas_eliminar_train,columnas_eliminar_test,'Total_amount',666666)"
   ]
  },
  {
   "cell_type": "code",
   "execution_count": 126,
   "metadata": {},
   "outputs": [
    {
     "data": {
      "text/plain": [
       "array([ True,  True,  True,  True,  True,  True,  True,  True,  True,\n",
       "        True,  True,  True,  True,  True,  True,  True,  True,  True,\n",
       "        True,  True,  True,  True,  True,  True,  True,  True,  True,\n",
       "        True,  True])"
      ]
     },
     "execution_count": 126,
     "metadata": {},
     "output_type": "execute_result"
    }
   ],
   "source": [
    "X_train_mtn.columns == X_test_mnt.columns"
   ]
  },
  {
   "cell_type": "code",
   "execution_count": 127,
   "metadata": {},
   "outputs": [
    {
     "data": {
      "text/plain": [
       "Index(['Education', 'Marital_Status', 'Income', 'Kidhome', 'Teenhome',\n",
       "       'Recency', 'MntWines', 'MntFruits', 'MntMeatProducts',\n",
       "       'MntFishProducts', 'MntSweetProducts', 'MntGoldProds',\n",
       "       'NumDealsPurchases', 'NumWebPurchases', 'NumCatalogPurchases',\n",
       "       'NumStorePurchases', 'NumWebVisitsMonth', 'AcceptedCmp3',\n",
       "       'AcceptedCmp4', 'AcceptedCmp5', 'AcceptedCmp1', 'AcceptedCmp2',\n",
       "       'Complain', 'Response', 'age', 'customes_seniority',\n",
       "       'Household_members', 'Total_purchase', 'Total_cmp'],\n",
       "      dtype='object')"
      ]
     },
     "execution_count": 127,
     "metadata": {},
     "output_type": "execute_result"
    }
   ],
   "source": [
    "X_train_mtn.columns"
   ]
  },
  {
   "cell_type": "code",
   "execution_count": 128,
   "metadata": {},
   "outputs": [
    {
     "data": {
      "text/plain": [
       "Index(['Income', 'Kidhome', 'Teenhome', 'Recency', 'MntWines', 'MntFruits',\n",
       "       'MntMeatProducts', 'MntFishProducts', 'MntSweetProducts',\n",
       "       'MntGoldProds', 'NumDealsPurchases', 'NumWebPurchases',\n",
       "       'NumCatalogPurchases', 'NumStorePurchases', 'NumWebVisitsMonth',\n",
       "       'AcceptedCmp3', 'AcceptedCmp4', 'AcceptedCmp5', 'AcceptedCmp1',\n",
       "       'AcceptedCmp2', 'Complain', 'Response', 'age', 'customes_seniority',\n",
       "       'Household_members', 'Total_purchase', 'Total_cmp'],\n",
       "      dtype='object')"
      ]
     },
     "execution_count": 128,
     "metadata": {},
     "output_type": "execute_result"
    }
   ],
   "source": [
    "numerical_features_mnt"
   ]
  },
  {
   "cell_type": "code",
   "execution_count": 129,
   "metadata": {},
   "outputs": [],
   "source": [
    "X_train_transform_df_mnt, X_test_transform_df_mnt = tratamiento_y_pipeline(X_train_mtn, y_train_mnt, X_test_mnt,numerical_features_mnt,categorical_features_onehot, categorical_features_ordinal)"
   ]
  },
  {
   "cell_type": "code",
   "execution_count": 133,
   "metadata": {},
   "outputs": [],
   "source": [
    "features_amount_select = ['num__Income', 'num__Kidhome', 'num__Teenhome', 'num__age','cat_onehot__Marital_Status_Alone','num__Household_members',\n",
    "       'cat_onehot__Marital_Status_Divorced',\n",
    "       'cat_onehot__Marital_Status_Married',\n",
    "       'cat_onehot__Marital_Status_Others',\n",
    "       'cat_onehot__Marital_Status_Single',\n",
    "       'cat_onehot__Marital_Status_Together',\n",
    "       'cat_onehot__Marital_Status_Widow', 'cat_ordinal__Education']"
   ]
  },
  {
   "cell_type": "markdown",
   "metadata": {},
   "source": [
    "### Comparación modelos"
   ]
  },
  {
   "cell_type": "code",
   "execution_count": 152,
   "metadata": {},
   "outputs": [
    {
     "ename": "TypeError",
     "evalue": "LinearRegression.__init__() got an unexpected keyword argument 'max_iter'",
     "output_type": "error",
     "traceback": [
      "\u001b[1;31m---------------------------------------------------------------------------\u001b[0m",
      "\u001b[1;31mTypeError\u001b[0m                                 Traceback (most recent call last)",
      "Cell \u001b[1;32mIn[152], line 7\u001b[0m\n\u001b[0;32m      5\u001b[0m lgb \u001b[38;5;241m=\u001b[39m LGBMRegressor(random_state \u001b[38;5;241m=\u001b[39m \u001b[38;5;241m42\u001b[39m, verbose \u001b[38;5;241m=\u001b[39m \u001b[38;5;241m-\u001b[39m\u001b[38;5;241m3\u001b[39m)\n\u001b[0;32m      6\u001b[0m cat \u001b[38;5;241m=\u001b[39m CatBoostRegressor(random_state\u001b[38;5;241m=\u001b[39m\u001b[38;5;241m42\u001b[39m, verbose\u001b[38;5;241m=\u001b[39m\u001b[38;5;28;01mFalse\u001b[39;00m)\n\u001b[1;32m----> 7\u001b[0m lin_reg \u001b[38;5;241m=\u001b[39m \u001b[43mLinearRegression\u001b[49m\u001b[43m(\u001b[49m\u001b[43mmax_iter\u001b[49m\u001b[43m \u001b[49m\u001b[38;5;241;43m=\u001b[39;49m\u001b[43m \u001b[49m\u001b[38;5;241;43m5000\u001b[39;49m\u001b[43m)\u001b[49m\n",
      "\u001b[1;31mTypeError\u001b[0m: LinearRegression.__init__() got an unexpected keyword argument 'max_iter'"
     ]
    }
   ],
   "source": [
    "# Instancio modelos\n",
    "\n",
    "xgb = XGBRegressor(random_state = 42)\n",
    "rf = RandomForestRegressor(random_state=42)\n",
    "lgb = LGBMRegressor(random_state = 42, verbose = -3)\n",
    "cat = CatBoostRegressor(random_state=42, verbose=False)\n",
    "lin_reg = LinearRegression()"
   ]
  },
  {
   "cell_type": "code",
   "execution_count": 145,
   "metadata": {},
   "outputs": [
    {
     "name": "stdout",
     "output_type": "stream",
     "text": [
      "Resultados de la validación cruzada:\n",
      "XGBoost: MAE = 221.709\n",
      "RandomForest: MAE = 209.420\n",
      "LightGBoost: MAE = 215.936\n",
      "CatBoost: MAE = 209.985\n",
      "LinearRegression: MAE = 245.977\n",
      "*************************\n",
      "\n",
      "El ganador es: RandomForest\n"
     ]
    }
   ],
   "source": [
    "# Definir los nombres de los modelos y los modelos correspondientes\n",
    "model_names = ['XGBoost', 'RandomForest', 'LightGBoost', 'CatBoost', 'LinearRegression']\n",
    "model_set = [xgb, rf, lgb, cat,lin_reg]\n",
    "\n",
    "# Crear un diccionario para almacenar las métricas de validación cruzada\n",
    "metricas_cv = {}\n",
    "\n",
    "# Lista para almacenar los valores de recall\n",
    "valores = []\n",
    "\n",
    "# Realizar validación cruzada para cada modelo\n",
    "for nombre, modelo in zip(model_names, model_set):\n",
    "    # Calcular las métricas de validación cruzada\n",
    "    scores = cross_val_score(modelo, X_train_transform_df_mnt[features_amount_select], y_train_mnt, cv=5, scoring='neg_mean_absolute_error')\n",
    "    \n",
    "    # Almacenar el resultado\n",
    "    metricas_cv[nombre] = scores\n",
    "    valores.append(np.mean(scores))\n",
    "\n",
    "# Encontrar el modelo con la mayor métrica de recall\n",
    "ganador = list(metricas_cv.keys())[np.argmax(valores)]\n",
    "\n",
    "# Imprimir los resultados\n",
    "print(\"Resultados de la validación cruzada:\")\n",
    "for nombre, scores in metricas_cv.items():\n",
    "    print(f\"{nombre}: MAE = {-np.mean(scores):.3f}\")\n",
    "print('*'*25)\n",
    "print(f\"\\nEl ganador es: {ganador}\")"
   ]
  },
  {
   "cell_type": "markdown",
   "metadata": {},
   "source": [
    "### Modelización e hiperparámetros"
   ]
  },
  {
   "cell_type": "markdown",
   "metadata": {},
   "source": [
    "#### RandomForest"
   ]
  },
  {
   "cell_type": "code",
   "execution_count": 146,
   "metadata": {},
   "outputs": [
    {
     "name": "stdout",
     "output_type": "stream",
     "text": [
      "Mejor modelo y parámetros: {'criterion': 'absolute_error', 'max_depth': 12, 'min_samples_leaf': 12, 'min_samples_split': 3, 'n_estimators': 100}\n",
      "Mejor resultado del recall para la clase positiva: -201.78001463155096\n"
     ]
    }
   ],
   "source": [
    "param_rf = {\n",
    "    'n_estimators': [80,100,200],\n",
    "    'max_depth': [10,12,13],\n",
    "    'min_samples_split': [2,3,5],\n",
    "    'min_samples_leaf': [11,12,13],\n",
    "    'criterion': ['absolute_error']\n",
    "}\n",
    "\n",
    "grid_rf = GridSearchCV(rf, \n",
    "                       param_grid=param_rf, \n",
    "                       cv=5, \n",
    "                       scoring=('neg_mean_absolute_error'), \n",
    "                       n_jobs=-1)\n",
    "\n",
    "grid_rf.fit(X_train_transform_df_mnt[features_amount_select], y_train_mnt)\n",
    "\n",
    "# Obtener el mejor modelo y parámetros\n",
    "best_model_rf = grid_rf.best_estimator_\n",
    "best_params_rf = grid_rf.best_params_\n",
    "print(\"Mejor modelo y parámetros:\", best_params_rf)\n",
    "\n",
    "# Imprimir el mejor resultado del MAE\n",
    "best_MAE_rf = grid_rf.best_score_\n",
    "print(\"Mejor resultado del MAE:\", best_MAE_rf)"
   ]
  },
  {
   "cell_type": "markdown",
   "metadata": {},
   "source": [
    "Mejor modelo y parámetros: {'criterion': 'absolute_error', 'max_depth': 12, 'min_samples_leaf': 12, 'min_samples_split': 3, 'n_estimators': 100}\n",
    "Mejor resultado del recall para la clase positiva: -201.78001463155096"
   ]
  },
  {
   "cell_type": "code",
   "execution_count": 147,
   "metadata": {},
   "outputs": [
    {
     "name": "stdout",
     "output_type": "stream",
     "text": [
      "                         Característica  Importancia\n",
      "0                           num__Income     0.908930\n",
      "3                              num__age     0.026291\n",
      "1                          num__Kidhome     0.019849\n",
      "2                         num__Teenhome     0.018988\n",
      "12               cat_ordinal__Education     0.010012\n",
      "5                num__Household_members     0.008499\n",
      "7    cat_onehot__Marital_Status_Married     0.003484\n",
      "10  cat_onehot__Marital_Status_Together     0.001651\n",
      "9     cat_onehot__Marital_Status_Single     0.001502\n",
      "6   cat_onehot__Marital_Status_Divorced     0.000794\n",
      "4      cat_onehot__Marital_Status_Alone     0.000000\n",
      "8     cat_onehot__Marital_Status_Others     0.000000\n",
      "11     cat_onehot__Marital_Status_Widow     0.000000\n"
     ]
    }
   ],
   "source": [
    "importancias = best_model_rf.feature_importances_\n",
    "nombres_caracteristicas = features_amount_select\n",
    "\n",
    "importancias_df = pd.DataFrame({\n",
    "    'Característica': nombres_caracteristicas,\n",
    "    'Importancia': importancias\n",
    "})\n",
    "\n",
    "importancias_df.sort_values(by='Importancia', ascending=False, inplace=True)\n",
    "\n",
    "print(importancias_df)"
   ]
  },
  {
   "cell_type": "markdown",
   "metadata": {},
   "source": [
    "#### CatBoost"
   ]
  },
  {
   "cell_type": "code",
   "execution_count": 150,
   "metadata": {},
   "outputs": [
    {
     "name": "stdout",
     "output_type": "stream",
     "text": [
      "Mejor modelo y parámetros: {'criterion': 'absolute_error', 'max_depth': 12, 'min_samples_leaf': 12, 'min_samples_split': 3, 'n_estimators': 100}\n",
      "Mejor resultado del recall para la clase positiva: -210.65900841503944\n"
     ]
    }
   ],
   "source": [
    " \n",
    "param_cat = {\n",
    "    'iterations': [500,1000,1500],\n",
    "    'learning_rate': [0.1,0.2,0.4],\n",
    "    'depth': [6,8,12],\n",
    "    'l2_leaf_reg': [2,3,4],\n",
    "    'min_data_in_leaf':[4,8,12],\n",
    "       \n",
    "}\n",
    "\n",
    "grid_cat = GridSearchCV(cat, \n",
    "                       param_grid=param_cat, \n",
    "                       cv=5, \n",
    "                       scoring=('neg_mean_absolute_error'), \n",
    "                       n_jobs=-1)\n",
    "\n",
    "grid_cat.fit(X_train_transform_df_mnt[features_amount_select], y_train_mnt)\n",
    "\n",
    "# Obtener el mejor modelo y parámetros\n",
    "best_model_cat = grid_cat.best_estimator_\n",
    "best_params_cat = grid_cat.best_params_\n",
    "print(\"Mejor modelo y parámetros:\", best_params_rf)\n",
    "\n",
    "# Imprimir el mejor resultado del MAE\n",
    "best_MAE_cat = grid_cat.best_score_\n",
    "print(\"Mejor resultado del MAE:\", best_MAE_cat)\n",
    "\n"
   ]
  },
  {
   "cell_type": "markdown",
   "metadata": {},
   "source": []
  },
  {
   "cell_type": "code",
   "execution_count": 160,
   "metadata": {},
   "outputs": [
    {
     "name": "stdout",
     "output_type": "stream",
     "text": [
      "                         Característica  Importancia\n",
      "0                           num__Income    62.287638\n",
      "3                              num__age    11.639605\n",
      "1                          num__Kidhome     6.181174\n",
      "2                         num__Teenhome     6.127764\n",
      "12               cat_ordinal__Education     4.601861\n",
      "5                num__Household_members     3.345526\n",
      "7    cat_onehot__Marital_Status_Married     2.076928\n",
      "10  cat_onehot__Marital_Status_Together     1.263993\n",
      "9     cat_onehot__Marital_Status_Single     0.935488\n",
      "6   cat_onehot__Marital_Status_Divorced     0.844080\n",
      "11     cat_onehot__Marital_Status_Widow     0.692133\n",
      "8     cat_onehot__Marital_Status_Others     0.003439\n",
      "4      cat_onehot__Marital_Status_Alone     0.000371\n"
     ]
    }
   ],
   "source": [
    "importancias = best_model_cat.feature_importances_\n",
    "nombres_caracteristicas = features_amount_select\n",
    "\n",
    "importancias_df = pd.DataFrame({\n",
    "    'Característica': nombres_caracteristicas,\n",
    "    'Importancia': importancias\n",
    "})\n",
    "\n",
    "importancias_df.sort_values(by='Importancia', ascending=False, inplace=True)\n",
    "\n",
    "print(importancias_df)"
   ]
  },
  {
   "cell_type": "markdown",
   "metadata": {},
   "source": [
    "### Evaluación contra test"
   ]
  },
  {
   "cell_type": "code",
   "execution_count": 153,
   "metadata": {},
   "outputs": [
    {
     "name": "stdout",
     "output_type": "stream",
     "text": [
      "RandomForest: El MAE es: 193.534609375\n",
      "RandomForest: El MAPE es: 0.9930382783861701\n",
      "CatBoost: El MAE es: 200.63835994774166\n",
      "CatBoost: El MAPE es: 1.214370051537649\n"
     ]
    }
   ],
   "source": [
    "# RandomForest:\n",
    "y_pred_mnt_rf = grid_rf.predict(X_test_transform_df_mnt[features_amount_select])\n",
    "mae = mean_absolute_error(y_test_mnt, y_pred_mnt_rf)\n",
    "print(f\"RandomForest: El MAE es: {mae}\")\n",
    "\n",
    "mape = mean_absolute_percentage_error(y_test_mnt, y_pred_mnt_rf)\n",
    "print(f\"RandomForest: El MAPE es: {mape}\")\n",
    "\n",
    "# CatBoost:\n",
    "y_pred_mnt_cat = grid_cat.predict(X_test_transform_df_mnt[features_amount_select])\n",
    "mae = mean_absolute_error(y_test_mnt, y_pred_mnt_cat)\n",
    "print(f\"CatBoost: El MAE es: {mae}\")\n",
    "\n",
    "mape = mean_absolute_percentage_error(y_test_mnt, y_pred_mnt_cat)\n",
    "print(f\"CatBoost: El MAPE es: {mape}\")\n"
   ]
  },
  {
   "cell_type": "code",
   "execution_count": 158,
   "metadata": {},
   "outputs": [
    {
     "data": {
      "text/plain": [
       "['./models/rf_mnt_1.joblib']"
      ]
     },
     "execution_count": 158,
     "metadata": {},
     "output_type": "execute_result"
    }
   ],
   "source": [
    "import joblib\n",
    "import os\n",
    "\n",
    "path_rf = './models/rf_mnt_1.joblib'\n",
    "\n",
    "joblib.dump(grid_rf,path_rf)\n",
    "\n"
   ]
  },
  {
   "cell_type": "code",
   "execution_count": 159,
   "metadata": {},
   "outputs": [
    {
     "data": {
      "text/plain": [
       "['./models/cat_mnt_1.joblib']"
      ]
     },
     "execution_count": 159,
     "metadata": {},
     "output_type": "execute_result"
    }
   ],
   "source": [
    "path_cat = './models/cat_mnt_1.joblib'\n",
    "\n",
    "joblib.dump(grid_cat,path_cat)"
   ]
  },
  {
   "cell_type": "markdown",
   "metadata": {},
   "source": [
    "## Predicción gasto en fruta"
   ]
  },
  {
   "cell_type": "code",
   "execution_count": 5,
   "metadata": {},
   "outputs": [],
   "source": [
    "train_set_mnt_fruit = train_set.copy()\n",
    "test_set_mnt_fruit = test_set.copy()"
   ]
  },
  {
   "cell_type": "code",
   "execution_count": 51,
   "metadata": {},
   "outputs": [
    {
     "data": {
      "text/plain": [
       "count    1790.000000\n",
       "mean       26.196648\n",
       "std        39.692676\n",
       "min         0.000000\n",
       "25%         2.000000\n",
       "50%         8.000000\n",
       "75%        33.000000\n",
       "max       199.000000\n",
       "Name: MntFruits, dtype: float64"
      ]
     },
     "execution_count": 51,
     "metadata": {},
     "output_type": "execute_result"
    }
   ],
   "source": [
    "train_set_mnt_fruit['MntFruits'].describe().T"
   ]
  },
  {
   "cell_type": "code",
   "execution_count": 6,
   "metadata": {},
   "outputs": [],
   "source": [
    "X_train_mtn_fruit, y_train_mnt_fruit, X_test_mnt_fruit, y_test_mnt_fruit, numerical_features_mnt = preprocesar_datos(train_set_mnt_fruit,test_set_mnt_fruit,columnas_eliminar_train,columnas_eliminar_test,'MntFruits',666666)"
   ]
  },
  {
   "cell_type": "code",
   "execution_count": 7,
   "metadata": {},
   "outputs": [
    {
     "data": {
      "text/plain": [
       "array([ True,  True,  True,  True,  True,  True,  True,  True,  True,\n",
       "        True,  True,  True,  True,  True,  True,  True,  True,  True,\n",
       "        True,  True,  True,  True,  True,  True,  True,  True,  True,\n",
       "        True,  True])"
      ]
     },
     "execution_count": 7,
     "metadata": {},
     "output_type": "execute_result"
    }
   ],
   "source": [
    "X_train_mtn_fruit.columns == X_test_mnt_fruit.columns"
   ]
  },
  {
   "cell_type": "code",
   "execution_count": 8,
   "metadata": {},
   "outputs": [
    {
     "data": {
      "text/plain": [
       "Index(['Education', 'Marital_Status', 'Income', 'Kidhome', 'Teenhome',\n",
       "       'Recency', 'MntWines', 'MntMeatProducts', 'MntFishProducts',\n",
       "       'MntSweetProducts', 'MntGoldProds', 'NumDealsPurchases',\n",
       "       'NumWebPurchases', 'NumCatalogPurchases', 'NumStorePurchases',\n",
       "       'NumWebVisitsMonth', 'AcceptedCmp3', 'AcceptedCmp4', 'AcceptedCmp5',\n",
       "       'AcceptedCmp1', 'AcceptedCmp2', 'Complain', 'Response', 'age',\n",
       "       'customes_seniority', 'Household_members', 'Total_amount',\n",
       "       'Total_purchase', 'Total_cmp'],\n",
       "      dtype='object')"
      ]
     },
     "execution_count": 8,
     "metadata": {},
     "output_type": "execute_result"
    }
   ],
   "source": [
    "X_train_mtn_fruit.columns"
   ]
  },
  {
   "cell_type": "code",
   "execution_count": 9,
   "metadata": {},
   "outputs": [
    {
     "data": {
      "text/plain": [
       "Index(['Income', 'Kidhome', 'Teenhome', 'Recency', 'MntWines',\n",
       "       'MntMeatProducts', 'MntFishProducts', 'MntSweetProducts',\n",
       "       'MntGoldProds', 'NumDealsPurchases', 'NumWebPurchases',\n",
       "       'NumCatalogPurchases', 'NumStorePurchases', 'NumWebVisitsMonth',\n",
       "       'AcceptedCmp3', 'AcceptedCmp4', 'AcceptedCmp5', 'AcceptedCmp1',\n",
       "       'AcceptedCmp2', 'Complain', 'Response', 'age', 'customes_seniority',\n",
       "       'Household_members', 'Total_amount', 'Total_purchase', 'Total_cmp'],\n",
       "      dtype='object')"
      ]
     },
     "execution_count": 9,
     "metadata": {},
     "output_type": "execute_result"
    }
   ],
   "source": [
    "numerical_features_mnt"
   ]
  },
  {
   "cell_type": "code",
   "execution_count": 10,
   "metadata": {},
   "outputs": [],
   "source": [
    "X_train_transform_df_mnt_fruit, X_test_transform_df_mnt_fruit = tratamiento_y_pipeline(X_train_mtn_fruit, y_train_mnt_fruit, X_test_mnt_fruit,numerical_features_mnt,categorical_features_onehot, categorical_features_ordinal)"
   ]
  },
  {
   "cell_type": "code",
   "execution_count": 11,
   "metadata": {},
   "outputs": [],
   "source": [
    "features_amount_select = ['num__Income', 'num__Kidhome', 'num__Teenhome', 'num__age','cat_onehot__Marital_Status_Alone','num__Household_members',\n",
    "       'cat_onehot__Marital_Status_Divorced',\n",
    "       'cat_onehot__Marital_Status_Married',\n",
    "       'cat_onehot__Marital_Status_Others',\n",
    "       'cat_onehot__Marital_Status_Single',\n",
    "       'cat_onehot__Marital_Status_Together',\n",
    "       'cat_onehot__Marital_Status_Widow', 'cat_ordinal__Education']"
   ]
  },
  {
   "cell_type": "markdown",
   "metadata": {},
   "source": [
    "### Comparación modelos"
   ]
  },
  {
   "cell_type": "code",
   "execution_count": 12,
   "metadata": {},
   "outputs": [],
   "source": [
    "# Instancio modelos\n",
    "\n",
    "xgb = XGBRegressor(random_state = 42)\n",
    "rf = RandomForestRegressor(random_state=42)\n",
    "lgb = LGBMRegressor(random_state = 42, verbose = -3)\n",
    "cat = CatBoostRegressor(random_state=42, verbose=False)\n",
    "lin_reg = LinearRegression()"
   ]
  },
  {
   "cell_type": "code",
   "execution_count": 13,
   "metadata": {},
   "outputs": [
    {
     "name": "stdout",
     "output_type": "stream",
     "text": [
      "Resultados de la validación cruzada:\n",
      "XGBoost: MAE = 21.154\n",
      "RandomForest: MAE = 19.645\n",
      "LightGBoost: MAE = 20.340\n",
      "CatBoost: MAE = 20.016\n",
      "LinearRegression: MAE = 21.884\n",
      "*************************\n",
      "\n",
      "El ganador es: RandomForest\n"
     ]
    }
   ],
   "source": [
    "# Definir los nombres de los modelos y los modelos correspondientes\n",
    "model_names = ['XGBoost', 'RandomForest', 'LightGBoost', 'CatBoost', 'LinearRegression']\n",
    "model_set = [xgb, rf, lgb, cat,lin_reg]\n",
    "\n",
    "# Crear un diccionario para almacenar las métricas de validación cruzada\n",
    "metricas_cv = {}\n",
    "\n",
    "# Lista para almacenar los valores de recall\n",
    "valores = []\n",
    "\n",
    "# Realizar validación cruzada para cada modelo\n",
    "for nombre, modelo in zip(model_names, model_set):\n",
    "    # Calcular las métricas de validación cruzada\n",
    "    scores = cross_val_score(modelo, X_train_transform_df_mnt_fruit[features_amount_select], y_train_mnt_fruit, cv=5, scoring='neg_mean_absolute_error')\n",
    "    \n",
    "    # Almacenar el resultado\n",
    "    metricas_cv[nombre] = scores\n",
    "    valores.append(np.mean(scores))\n",
    "\n",
    "# Encontrar el modelo con la mayor métrica de recall\n",
    "ganador = list(metricas_cv.keys())[np.argmax(valores)]\n",
    "\n",
    "# Imprimir los resultados\n",
    "print(\"Resultados de la validación cruzada:\")\n",
    "for nombre, scores in metricas_cv.items():\n",
    "    print(f\"{nombre}: MAE = {-np.mean(scores):.3f}\")\n",
    "print('*'*25)\n",
    "print(f\"\\nEl ganador es: {ganador}\")"
   ]
  },
  {
   "cell_type": "markdown",
   "metadata": {},
   "source": [
    "El catboost tarda mucho, y no me da mejor resultado que el random forest."
   ]
  },
  {
   "cell_type": "markdown",
   "metadata": {},
   "source": [
    "### Modelización e hiperparámetros"
   ]
  },
  {
   "cell_type": "markdown",
   "metadata": {},
   "source": [
    "#### RandomForest"
   ]
  },
  {
   "cell_type": "code",
   "execution_count": 22,
   "metadata": {},
   "outputs": [
    {
     "name": "stdout",
     "output_type": "stream",
     "text": [
      "Mejor modelo y parámetros: {'criterion': 'absolute_error', 'max_depth': 5, 'min_samples_leaf': 6, 'min_samples_split': 2, 'n_estimators': 200}\n",
      "Mejor resultado del MAE: -18.201124700718275\n"
     ]
    }
   ],
   "source": [
    "param_rf_fruit = {\n",
    "    'n_estimators': [100,200,300],\n",
    "    'max_depth': [3,4,5],\n",
    "    'min_samples_split': [2,3,4],\n",
    "    'min_samples_leaf': [6,7,8],\n",
    "    'criterion': ['absolute_error']\n",
    "}\n",
    "\n",
    "grid_rf_fruit = GridSearchCV(rf, \n",
    "                       param_grid=param_rf_fruit, \n",
    "                       cv=5, \n",
    "                       scoring=('neg_mean_absolute_error'), \n",
    "                       n_jobs=-1)\n",
    "\n",
    "grid_rf_fruit.fit(X_train_transform_df_mnt_fruit[features_amount_select], y_train_mnt_fruit)\n",
    "\n",
    "# Obtener el mejor modelo y parámetros\n",
    "best_model_rf_fruit = grid_rf_fruit.best_estimator_\n",
    "best_params_rf_fruit = grid_rf_fruit.best_params_\n",
    "print(\"Mejor modelo y parámetros:\", best_params_rf_fruit)\n",
    "\n",
    "# Imprimir el mejor resultado del MAE\n",
    "best_MAE_rf_fruit = grid_rf_fruit.best_score_\n",
    "print(\"Mejor resultado del MAE:\", best_MAE_rf_fruit)"
   ]
  },
  {
   "cell_type": "markdown",
   "metadata": {},
   "source": [
    "Modelos anterior:    \n",
    "Mejor modelo y parámetros: {'criterion': 'absolute_error', 'max_depth': 4, 'min_samples_leaf': 7, 'min_samples_split': 2, 'n_estimators': 200}    \n",
    "Mejor resultado del MAE: -18.257879297529065"
   ]
  },
  {
   "cell_type": "code",
   "execution_count": 28,
   "metadata": {},
   "outputs": [
    {
     "name": "stdout",
     "output_type": "stream",
     "text": [
      "                         Característica  Importancia\n",
      "0                           num__Income     0.745770\n",
      "3                              num__age     0.091260\n",
      "12               cat_ordinal__Education     0.068046\n",
      "2                         num__Teenhome     0.051776\n",
      "5                num__Household_members     0.018619\n",
      "1                          num__Kidhome     0.009652\n",
      "7    cat_onehot__Marital_Status_Married     0.004926\n",
      "10  cat_onehot__Marital_Status_Together     0.003460\n",
      "6   cat_onehot__Marital_Status_Divorced     0.003090\n",
      "9     cat_onehot__Marital_Status_Single     0.002590\n",
      "11     cat_onehot__Marital_Status_Widow     0.000812\n",
      "4      cat_onehot__Marital_Status_Alone     0.000000\n",
      "8     cat_onehot__Marital_Status_Others     0.000000\n"
     ]
    }
   ],
   "source": [
    "importancias = best_model_rf_fruit.feature_importances_\n",
    "nombres_caracteristicas = features_amount_select\n",
    "\n",
    "importancias_df = pd.DataFrame({\n",
    "    'Característica': nombres_caracteristicas,\n",
    "    'Importancia': importancias\n",
    "})\n",
    "\n",
    "importancias_df.sort_values(by='Importancia', ascending=False, inplace=True)\n",
    "\n",
    "print(importancias_df)"
   ]
  },
  {
   "cell_type": "markdown",
   "metadata": {},
   "source": [
    "#### LightGBoost"
   ]
  },
  {
   "cell_type": "code",
   "execution_count": 23,
   "metadata": {},
   "outputs": [
    {
     "name": "stdout",
     "output_type": "stream",
     "text": [
      "Mejor modelo y parámetros: {'learning_rate': 0.09, 'max_depth': 6, 'min_samples_leaf': 8, 'min_samples_split': 2, 'n_estimators': 100, 'reg_alpha ': 0.1, 'reg_lambda': 0.5}\n",
      "Mejor resultado del MAE: -19.564771254535763\n"
     ]
    }
   ],
   "source": [
    "param_lgb_fruit = {\n",
    "    'n_estimators': [100,200,400],\n",
    "    'max_depth': [5,6,7],\n",
    "    'min_samples_split': [2,3,4],\n",
    "    'min_samples_leaf': [8,10,12],\n",
    "    'learning_rate':[0.09,0.1,0.2],\n",
    "    'reg_alpha ': [0.1],\n",
    "    'reg_lambda':[0.5,0.8]\n",
    "}\n",
    "\n",
    "grid_lgb_fruit = GridSearchCV(lgb, \n",
    "                       param_grid=param_lgb_fruit, \n",
    "                       cv=5, \n",
    "                       scoring=('neg_mean_absolute_error'), \n",
    "                       n_jobs=-1)\n",
    "\n",
    "grid_lgb_fruit.fit(X_train_transform_df_mnt_fruit[features_amount_select], y_train_mnt_fruit)\n",
    "\n",
    "# Obtener el mejor modelo y parámetros\n",
    "best_model_lgb_fruit = grid_lgb_fruit.best_estimator_\n",
    "best_params_lgb_fruit = grid_lgb_fruit.best_params_\n",
    "print(\"Mejor modelo y parámetros:\", best_params_lgb_fruit)\n",
    "\n",
    "# Imprimir el mejor resultado del MAE\n",
    "best_MAE_lgb_fruit = grid_lgb_fruit.best_score_\n",
    "print(\"Mejor resultado del MAE:\", best_MAE_lgb_fruit)"
   ]
  },
  {
   "cell_type": "markdown",
   "metadata": {},
   "source": [
    "Modelo anterior:    \n",
    "Mejor modelo y parámetros: {'learning_rate': 0.1, 'max_depth': 5, 'min_samples_leaf': 10, 'min_samples_split': 2, 'n_estimators': 100, 'reg_alpha ': 0, 'reg_lambda': 0.5}    \n",
    "Mejor resultado del MAE: -19.609960732098425"
   ]
  },
  {
   "cell_type": "code",
   "execution_count": 27,
   "metadata": {},
   "outputs": [
    {
     "name": "stdout",
     "output_type": "stream",
     "text": [
      "                         Característica  Importancia\n",
      "0                           num__Income          928\n",
      "3                              num__age          698\n",
      "12               cat_ordinal__Education          183\n",
      "5                num__Household_members          106\n",
      "2                         num__Teenhome           76\n",
      "1                          num__Kidhome           55\n",
      "7    cat_onehot__Marital_Status_Married           45\n",
      "10  cat_onehot__Marital_Status_Together           39\n",
      "9     cat_onehot__Marital_Status_Single           27\n",
      "6   cat_onehot__Marital_Status_Divorced           24\n",
      "11     cat_onehot__Marital_Status_Widow           17\n",
      "4      cat_onehot__Marital_Status_Alone            0\n",
      "8     cat_onehot__Marital_Status_Others            0\n"
     ]
    }
   ],
   "source": [
    "importancias = best_model_lgb_fruit.feature_importances_\n",
    "nombres_caracteristicas = features_amount_select\n",
    "\n",
    "importancias_df = pd.DataFrame({\n",
    "    'Característica': nombres_caracteristicas,\n",
    "    'Importancia': importancias\n",
    "})\n",
    "\n",
    "importancias_df.sort_values(by='Importancia', ascending=False, inplace=True)\n",
    "\n",
    "print(importancias_df)"
   ]
  },
  {
   "cell_type": "markdown",
   "metadata": {},
   "source": [
    "### Evaluación contra test"
   ]
  },
  {
   "cell_type": "code",
   "execution_count": 29,
   "metadata": {},
   "outputs": [
    {
     "name": "stdout",
     "output_type": "stream",
     "text": [
      "RandomForest: El MAE es: 18.70126116071429\n",
      "RandomForest: El MAPE es: 9324361237427464.0\n",
      "LigthGBoost: El MAE es: 19.393178857993753\n",
      "LigthGBoost: El MAPE es: 1.2718769164635132e+16\n"
     ]
    }
   ],
   "source": [
    "# RandomForest:\n",
    "y_pred_mnt_rf_fruit = grid_rf_fruit.predict(X_test_transform_df_mnt_fruit[features_amount_select])\n",
    "mae = mean_absolute_error(y_test_mnt_fruit, y_pred_mnt_rf_fruit)\n",
    "print(f\"RandomForest: El MAE es: {mae}\")\n",
    "\n",
    "mape = mean_absolute_percentage_error(y_test_mnt_fruit, y_pred_mnt_rf_fruit)\n",
    "print(f\"RandomForest: El MAPE es: {mape}\")\n",
    "\n",
    "# LightGBoost:\n",
    "y_pred_mnt_lgb_fruit = grid_lgb_fruit.predict(X_test_transform_df_mnt_fruit[features_amount_select])\n",
    "mae = mean_absolute_error(y_test_mnt_fruit, y_pred_mnt_lgb_fruit)\n",
    "print(f\"LigthGBoost: El MAE es: {mae}\")\n",
    "\n",
    "mape = mean_absolute_percentage_error(y_test_mnt_fruit, y_pred_mnt_lgb_fruit)\n",
    "print(f\"LigthGBoost: El MAPE es: {mape}\")\n"
   ]
  },
  {
   "cell_type": "markdown",
   "metadata": {},
   "source": [
    "## Predicción gasto en wines"
   ]
  },
  {
   "cell_type": "code",
   "execution_count": 31,
   "metadata": {},
   "outputs": [],
   "source": [
    "train_set_mnt_wines = train_set.copy()\n",
    "test_set_mnt_wines = test_set.copy()"
   ]
  },
  {
   "cell_type": "code",
   "execution_count": 52,
   "metadata": {},
   "outputs": [
    {
     "data": {
      "text/plain": [
       "count    1790.000000\n",
       "mean      303.088268\n",
       "std       336.733188\n",
       "min         0.000000\n",
       "25%        24.000000\n",
       "50%       173.000000\n",
       "75%       501.250000\n",
       "max      1493.000000\n",
       "Name: MntWines, dtype: float64"
      ]
     },
     "execution_count": 52,
     "metadata": {},
     "output_type": "execute_result"
    }
   ],
   "source": [
    "train_set_mnt_wines['MntWines'].describe()"
   ]
  },
  {
   "cell_type": "code",
   "execution_count": 32,
   "metadata": {},
   "outputs": [],
   "source": [
    "X_train_mtn_wines, y_train_mnt_wines, X_test_mnt_wines, y_test_mnt_wines, numerical_features_mnt = preprocesar_datos(train_set_mnt_wines,test_set_mnt_wines,columnas_eliminar_train,columnas_eliminar_test,'MntWines',666666)"
   ]
  },
  {
   "cell_type": "code",
   "execution_count": 33,
   "metadata": {},
   "outputs": [
    {
     "data": {
      "text/plain": [
       "array([ True,  True,  True,  True,  True,  True,  True,  True,  True,\n",
       "        True,  True,  True,  True,  True,  True,  True,  True,  True,\n",
       "        True,  True,  True,  True,  True,  True,  True,  True,  True,\n",
       "        True,  True])"
      ]
     },
     "execution_count": 33,
     "metadata": {},
     "output_type": "execute_result"
    }
   ],
   "source": [
    "X_train_mtn_wines.columns == X_test_mnt_wines.columns"
   ]
  },
  {
   "cell_type": "code",
   "execution_count": 34,
   "metadata": {},
   "outputs": [
    {
     "data": {
      "text/plain": [
       "Index(['Education', 'Marital_Status', 'Income', 'Kidhome', 'Teenhome',\n",
       "       'Recency', 'MntFruits', 'MntMeatProducts', 'MntFishProducts',\n",
       "       'MntSweetProducts', 'MntGoldProds', 'NumDealsPurchases',\n",
       "       'NumWebPurchases', 'NumCatalogPurchases', 'NumStorePurchases',\n",
       "       'NumWebVisitsMonth', 'AcceptedCmp3', 'AcceptedCmp4', 'AcceptedCmp5',\n",
       "       'AcceptedCmp1', 'AcceptedCmp2', 'Complain', 'Response', 'age',\n",
       "       'customes_seniority', 'Household_members', 'Total_amount',\n",
       "       'Total_purchase', 'Total_cmp'],\n",
       "      dtype='object')"
      ]
     },
     "execution_count": 34,
     "metadata": {},
     "output_type": "execute_result"
    }
   ],
   "source": [
    "X_train_mtn_wines.columns"
   ]
  },
  {
   "cell_type": "code",
   "execution_count": 35,
   "metadata": {},
   "outputs": [
    {
     "data": {
      "text/plain": [
       "Index(['Income', 'Kidhome', 'Teenhome', 'Recency', 'MntFruits',\n",
       "       'MntMeatProducts', 'MntFishProducts', 'MntSweetProducts',\n",
       "       'MntGoldProds', 'NumDealsPurchases', 'NumWebPurchases',\n",
       "       'NumCatalogPurchases', 'NumStorePurchases', 'NumWebVisitsMonth',\n",
       "       'AcceptedCmp3', 'AcceptedCmp4', 'AcceptedCmp5', 'AcceptedCmp1',\n",
       "       'AcceptedCmp2', 'Complain', 'Response', 'age', 'customes_seniority',\n",
       "       'Household_members', 'Total_amount', 'Total_purchase', 'Total_cmp'],\n",
       "      dtype='object')"
      ]
     },
     "execution_count": 35,
     "metadata": {},
     "output_type": "execute_result"
    }
   ],
   "source": [
    "numerical_features_mnt"
   ]
  },
  {
   "cell_type": "code",
   "execution_count": 36,
   "metadata": {},
   "outputs": [],
   "source": [
    "X_train_transform_df_mnt_wines, X_test_transform_df_mnt_wines = tratamiento_y_pipeline(X_train_mtn_wines, y_train_mnt_wines, X_test_mnt_wines,numerical_features_mnt,categorical_features_onehot, categorical_features_ordinal)"
   ]
  },
  {
   "cell_type": "code",
   "execution_count": 37,
   "metadata": {},
   "outputs": [],
   "source": [
    "features_amount_select = ['num__Income', 'num__Kidhome', 'num__Teenhome', 'num__age','cat_onehot__Marital_Status_Alone','num__Household_members',\n",
    "       'cat_onehot__Marital_Status_Divorced',\n",
    "       'cat_onehot__Marital_Status_Married',\n",
    "       'cat_onehot__Marital_Status_Others',\n",
    "       'cat_onehot__Marital_Status_Single',\n",
    "       'cat_onehot__Marital_Status_Together',\n",
    "       'cat_onehot__Marital_Status_Widow', 'cat_ordinal__Education']"
   ]
  },
  {
   "cell_type": "markdown",
   "metadata": {},
   "source": [
    "### Comparación modelos"
   ]
  },
  {
   "cell_type": "code",
   "execution_count": 38,
   "metadata": {},
   "outputs": [],
   "source": [
    "# Instancio modelos\n",
    "\n",
    "xgb = XGBRegressor(random_state = 42)\n",
    "rf = RandomForestRegressor(random_state=42)\n",
    "lgb = LGBMRegressor(random_state = 42, verbose = -3)\n",
    "# cat = CatBoostRegressor(random_state=42, verbose=False)\n",
    "lin_reg = LinearRegression()"
   ]
  },
  {
   "cell_type": "code",
   "execution_count": 39,
   "metadata": {},
   "outputs": [
    {
     "name": "stdout",
     "output_type": "stream",
     "text": [
      "Resultados de la validación cruzada:\n",
      "XGBoost: MAE = 154.113\n",
      "RandomForest: MAE = 142.551\n",
      "LightGBoost: MAE = 148.916\n",
      "LinearRegression: MAE = 168.359\n",
      "*************************\n",
      "\n",
      "El ganador es: RandomForest\n"
     ]
    }
   ],
   "source": [
    "# Definir los nombres de los modelos y los modelos correspondientes\n",
    "model_names = ['XGBoost', 'RandomForest', 'LightGBoost', 'LinearRegression']\n",
    "model_set = [xgb, rf, lgb, lin_reg]\n",
    "\n",
    "# Crear un diccionario para almacenar las métricas de validación cruzada\n",
    "metricas_cv = {}\n",
    "\n",
    "# Lista para almacenar los valores de recall\n",
    "valores = []\n",
    "\n",
    "# Realizar validación cruzada para cada modelo\n",
    "for nombre, modelo in zip(model_names, model_set):\n",
    "    # Calcular las métricas de validación cruzada\n",
    "    scores = cross_val_score(modelo, X_train_transform_df_mnt_wines[features_amount_select], y_train_mnt_wines, cv=5, scoring='neg_mean_absolute_error')\n",
    "    \n",
    "    # Almacenar el resultado\n",
    "    metricas_cv[nombre] = scores\n",
    "    valores.append(np.mean(scores))\n",
    "\n",
    "# Encontrar el modelo con la mayor métrica de recall\n",
    "ganador = list(metricas_cv.keys())[np.argmax(valores)]\n",
    "\n",
    "# Imprimir los resultados\n",
    "print(\"Resultados de la validación cruzada:\")\n",
    "for nombre, scores in metricas_cv.items():\n",
    "    print(f\"{nombre}: MAE = {-np.mean(scores):.3f}\")\n",
    "print('*'*25)\n",
    "print(f\"\\nEl ganador es: {ganador}\")"
   ]
  },
  {
   "cell_type": "markdown",
   "metadata": {},
   "source": []
  },
  {
   "cell_type": "markdown",
   "metadata": {},
   "source": [
    "### Modelización e hiperparámetros"
   ]
  },
  {
   "cell_type": "markdown",
   "metadata": {},
   "source": [
    "#### RandomForest"
   ]
  },
  {
   "cell_type": "code",
   "execution_count": 41,
   "metadata": {},
   "outputs": [
    {
     "name": "stdout",
     "output_type": "stream",
     "text": [
      "Mejor modelo y parámetros: {'criterion': 'absolute_error', 'max_depth': 16, 'min_samples_leaf': 12, 'min_samples_split': 2, 'n_estimators': 100}\n",
      "Mejor resultado del MAE: -139.08498514936701\n"
     ]
    }
   ],
   "source": [
    "param_rf_wines = {\n",
    "    'n_estimators': [100,200],\n",
    "    'max_depth': [4,9,16],\n",
    "    'min_samples_split': [2,3,5],\n",
    "    'min_samples_leaf': [7,12,16],\n",
    "    'criterion': ['absolute_error']\n",
    "}\n",
    "\n",
    "grid_rf_wines = GridSearchCV(rf, \n",
    "                       param_grid=param_rf_wines, \n",
    "                       cv=5, \n",
    "                       scoring=('neg_mean_absolute_error'), \n",
    "                       n_jobs=-1)\n",
    "\n",
    "grid_rf_wines.fit(X_train_transform_df_mnt_wines[features_amount_select], y_train_mnt_wines)\n",
    "\n",
    "# Obtener el mejor modelo y parámetros\n",
    "best_model_rf_wines = grid_rf_wines.best_estimator_\n",
    "best_params_rf_wines = grid_rf_wines.best_params_\n",
    "print(\"Mejor modelo y parámetros:\", best_params_rf_wines)\n",
    "\n",
    "# Imprimir el mejor resultado del MAE\n",
    "best_MAE_rf_wines = grid_rf_wines.best_score_\n",
    "print(\"Mejor resultado del MAE:\", best_MAE_rf_wines)"
   ]
  },
  {
   "cell_type": "markdown",
   "metadata": {},
   "source": [
    "Mejor modelo y parámetros: {'criterion': 'absolute_error', 'max_depth': 16, 'min_samples_leaf': 12, 'min_samples_split': 2, 'n_estimators': 100}    \n",
    "Mejor resultado del MAE: -139.08498514936701"
   ]
  },
  {
   "cell_type": "code",
   "execution_count": 42,
   "metadata": {},
   "outputs": [
    {
     "name": "stdout",
     "output_type": "stream",
     "text": [
      "                         Característica  Importancia\n",
      "0                           num__Income     0.873684\n",
      "12               cat_ordinal__Education     0.036972\n",
      "3                              num__age     0.033421\n",
      "1                          num__Kidhome     0.025695\n",
      "7    cat_onehot__Marital_Status_Married     0.007720\n",
      "10  cat_onehot__Marital_Status_Together     0.007436\n",
      "5                num__Household_members     0.006806\n",
      "2                         num__Teenhome     0.004037\n",
      "6   cat_onehot__Marital_Status_Divorced     0.002322\n",
      "9     cat_onehot__Marital_Status_Single     0.001907\n",
      "4      cat_onehot__Marital_Status_Alone     0.000000\n",
      "8     cat_onehot__Marital_Status_Others     0.000000\n",
      "11     cat_onehot__Marital_Status_Widow     0.000000\n"
     ]
    }
   ],
   "source": [
    "importancias = best_model_rf_wines.feature_importances_\n",
    "nombres_caracteristicas = features_amount_select\n",
    "\n",
    "importancias_df = pd.DataFrame({\n",
    "    'Característica': nombres_caracteristicas,\n",
    "    'Importancia': importancias\n",
    "})\n",
    "\n",
    "importancias_df.sort_values(by='Importancia', ascending=False, inplace=True)\n",
    "\n",
    "print(importancias_df)"
   ]
  },
  {
   "cell_type": "markdown",
   "metadata": {},
   "source": [
    "#### LightGBoost"
   ]
  },
  {
   "cell_type": "code",
   "execution_count": 43,
   "metadata": {},
   "outputs": [
    {
     "name": "stdout",
     "output_type": "stream",
     "text": [
      "Mejor modelo y parámetros: {'learning_rate': 0.09, 'max_depth': 5, 'min_samples_leaf': 5, 'min_samples_split': 2, 'n_estimators': 100, 'reg_alpha ': 0, 'reg_lambda': 0.5}\n",
      "Mejor resultado del MAE: -142.95938919995206\n"
     ]
    }
   ],
   "source": [
    "param_lgb_wines = {\n",
    "    'n_estimators': [100,200,400],\n",
    "    'max_depth': [5,10,15],\n",
    "    'min_samples_split': [2,3,5],\n",
    "    'min_samples_leaf': [5,10,15],\n",
    "    'learning_rate':[0.09,0.1,0.2],\n",
    "    'reg_alpha ': [0],\n",
    "    'reg_lambda':[0.5]\n",
    "}\n",
    "\n",
    "grid_lgb_wines = GridSearchCV(lgb, \n",
    "                       param_grid=param_lgb_wines, \n",
    "                       cv=5, \n",
    "                       scoring=('neg_mean_absolute_error'), \n",
    "                       n_jobs=-1)\n",
    "\n",
    "grid_lgb_wines.fit(X_train_transform_df_mnt_wines[features_amount_select], y_train_mnt_wines)\n",
    "\n",
    "# Obtener el mejor modelo y parámetros\n",
    "best_model_lgb_wines = grid_lgb_wines.best_estimator_\n",
    "best_params_lgb_wines = grid_lgb_wines.best_params_\n",
    "print(\"Mejor modelo y parámetros:\", best_params_lgb_wines)\n",
    "\n",
    "# Imprimir el mejor resultado del MAE\n",
    "best_MAE_lgb_wines = grid_lgb_wines.best_score_\n",
    "print(\"Mejor resultado del MAE:\", best_MAE_lgb_wines)"
   ]
  },
  {
   "cell_type": "markdown",
   "metadata": {},
   "source": [
    "Mejor modelo y parámetros: {'learning_rate': 0.09, 'max_depth': 5, 'min_samples_leaf': 5, 'min_samples_split': 2, 'n_estimators': 100, 'reg_alpha ': 0, 'reg_lambda': 0.5}    \n",
    "Mejor resultado del MAE: -142.95938919995206"
   ]
  },
  {
   "cell_type": "code",
   "execution_count": 44,
   "metadata": {},
   "outputs": [
    {
     "name": "stdout",
     "output_type": "stream",
     "text": [
      "                         Característica  Importancia\n",
      "0                           num__Income          893\n",
      "3                              num__age          536\n",
      "12               cat_ordinal__Education          170\n",
      "5                num__Household_members          129\n",
      "1                          num__Kidhome           90\n",
      "7    cat_onehot__Marital_Status_Married           51\n",
      "2                         num__Teenhome           37\n",
      "10  cat_onehot__Marital_Status_Together           31\n",
      "6   cat_onehot__Marital_Status_Divorced           25\n",
      "11     cat_onehot__Marital_Status_Widow           21\n",
      "9     cat_onehot__Marital_Status_Single           11\n",
      "4      cat_onehot__Marital_Status_Alone            0\n",
      "8     cat_onehot__Marital_Status_Others            0\n"
     ]
    }
   ],
   "source": [
    "importancias = best_model_lgb_wines.feature_importances_\n",
    "nombres_caracteristicas = features_amount_select\n",
    "\n",
    "importancias_df = pd.DataFrame({\n",
    "    'Característica': nombres_caracteristicas,\n",
    "    'Importancia': importancias\n",
    "})\n",
    "\n",
    "importancias_df.sort_values(by='Importancia', ascending=False, inplace=True)\n",
    "\n",
    "print(importancias_df)"
   ]
  },
  {
   "cell_type": "markdown",
   "metadata": {},
   "source": [
    "### Evaluación contra test"
   ]
  },
  {
   "cell_type": "code",
   "execution_count": 45,
   "metadata": {},
   "outputs": [
    {
     "name": "stdout",
     "output_type": "stream",
     "text": [
      "RandomForest: El MAE es: 136.91555803571427\n",
      "RandomForest: El MAPE es: 410752412442767.44\n",
      "LigthGBoost: El MAE es: 138.7652692703462\n",
      "LigthGBoost: El MAPE es: 451235224197692.3\n"
     ]
    }
   ],
   "source": [
    "# RandomForest:\n",
    "y_pred_mnt_rf_wines = grid_rf_wines.predict(X_test_transform_df_mnt_wines[features_amount_select])\n",
    "mae = mean_absolute_error(y_test_mnt_wines, y_pred_mnt_rf_wines)\n",
    "print(f\"RandomForest: El MAE es: {mae}\")\n",
    "\n",
    "mape = mean_absolute_percentage_error(y_test_mnt_wines, y_pred_mnt_rf_wines)\n",
    "print(f\"RandomForest: El MAPE es: {mape}\")\n",
    "\n",
    "# CatBoost:\n",
    "y_pred_mnt_lgb_wines = grid_lgb_wines.predict(X_test_transform_df_mnt_wines[features_amount_select])\n",
    "mae = mean_absolute_error(y_test_mnt_wines, y_pred_mnt_lgb_wines)\n",
    "print(f\"LigthGBoost: El MAE es: {mae}\")\n",
    "\n",
    "mape = mean_absolute_percentage_error(y_test_mnt_wines, y_pred_mnt_lgb_wines)\n",
    "print(f\"LigthGBoost: El MAPE es: {mape}\")\n"
   ]
  }
 ],
 "metadata": {
  "kernelspec": {
   "display_name": "base",
   "language": "python",
   "name": "python3"
  },
  "language_info": {
   "codemirror_mode": {
    "name": "ipython",
    "version": 3
   },
   "file_extension": ".py",
   "mimetype": "text/x-python",
   "name": "python",
   "nbconvert_exporter": "python",
   "pygments_lexer": "ipython3",
   "version": "3.11.7"
  }
 },
 "nbformat": 4,
 "nbformat_minor": 2
}
